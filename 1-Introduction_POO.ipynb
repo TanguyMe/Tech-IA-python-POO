{
 "cells": [
  {
   "cell_type": "markdown",
   "metadata": {},
   "source": [
    "# I Introduction"
   ]
  },
  {
   "cell_type": "markdown",
   "metadata": {},
   "source": [
    "## I.1 Vocabulaire"
   ]
  },
  {
   "cell_type": "markdown",
   "metadata": {},
   "source": [
    "Métaphore cullinère:\n",
    "- une classe : la recette de la tartiflette\n",
    "- une instanciation de classe : la préparation d'une tartiflette à partir de la recette.\n",
    "- un objet ou une instance de classe : une tartiflette.\n",
    "\n",
    "On comprend qu'avec une recette on peut créer une infinité de plats similaires.\n",
    "\n",
    "Une classe peut contenir:\n",
    "- des attributs\n",
    "- des méthodes"
   ]
  },
  {
   "cell_type": "markdown",
   "metadata": {},
   "source": [
    "Il est déja possible de représenter nos classes en [UML](https://drawio-app.com/uml-class-diagrams-in-draw-io/) à l'aide de [draw.io](https://app.diagrams.net/)"
   ]
  },
  {
   "cell_type": "markdown",
   "metadata": {},
   "source": [
    "![Introduction aux classes](img/First_class_diagram.drawio.png)"
   ]
  },
  {
   "cell_type": "markdown",
   "metadata": {},
   "source": [
    "## 1.2 Point Pep 8"
   ]
  },
  {
   "cell_type": "markdown",
   "metadata": {},
   "source": [
    "Comment nommer ce dont on se sert:\n",
    "- **`Class names`**: should normally use the CapWords convention.\n",
    "- **`Method names and attribute names`**  : Use the function naming rules: lowercase with words separated by underscores as necessary to improve readability."
   ]
  },
  {
   "cell_type": "markdown",
   "metadata": {},
   "source": [
    "##  I.3 Exercice sur draw.io: diagram de classes et d'objets en UML"
   ]
  },
  {
   "cell_type": "markdown",
   "metadata": {},
   "source": [
    "Exercice sur draw.io écrire les diagrammes des classes suivantes et imaginez deux de leurs instanciations:\n",
    "- voiture\n",
    "- client\n",
    "- facture\n",
    "- vente\n",
    "- vendeur"
   ]
  },
  {
   "cell_type": "markdown",
   "metadata": {},
   "source": [
    "# II Coder ses premières classes et instances de classe"
   ]
  },
  {
   "cell_type": "markdown",
   "metadata": {},
   "source": [
    "## II.1 Coder les classes et les méthodes"
   ]
  },
  {
   "cell_type": "code",
   "execution_count": 30,
   "metadata": {},
   "outputs": [],
   "source": [
    "# On définit classe à l'aide du mot \"class\" puis de son nom\n",
    "class Cake:\n",
    "    \"\"\"Objet Cake qui permettra d'alimenter ma boulangerie\n",
    "    \"\"\"\n",
    "\n",
    "    # on définit ensuite, le constructeur: l'ensemble des attributs d'instance\n",
    "    # le constructeur est lui même une méthode mais une méthode très particulière\n",
    "    def __init__(self, flavor,number_share):\n",
    "        \"\"\" Initialise les attributs\n",
    "\n",
    "        Args:\n",
    "            flavor ([type]): [description]\n",
    "            number_share ([type]): [description]\n",
    "        \"\"\"\n",
    "        self.flavor = flavor\n",
    "        self.number_share = number_share\n",
    "\n",
    "    # on définit ensuite les méthodes qui peuvent utiliser les attributs de classe et d'instance\n",
    "    def be_cut(self):\n",
    "        \"\"\" couper le gateau\"\"\"\n",
    "        print(\"the {} cake is now cut in {} share\".format(self.flavor, self.number_share)) \n",
    "\n",
    "    def add_candles(self,candle):\n",
    "        \"\"\" ajoute des bougies au gateau\"\"\"\n",
    "        print(\"{} candles have been added on the {} cake\".format(candle, self.flavor))\n",
    "        print(\"each share has\")\n",
    "    "
   ]
  },
  {
   "cell_type": "code",
   "execution_count": 31,
   "metadata": {},
   "outputs": [
    {
     "name": "stdout",
     "output_type": "stream",
     "text": [
      "type of banana cake: <class '__main__.Cake'>\n",
      "banana_flavor: banana\n",
      "banana_number_share: 8\n",
      "the banana cake is now cut in 8 share\n",
      "8 candles have been added on the banana cake\n",
      "each share has\n"
     ]
    }
   ],
   "source": [
    "# On crée maintenant nos objets à partir de la classe définie plus haut\n",
    "\n",
    "# L'instanciation nécessite de définir les attributs d'instance (mais pas de classe)\n",
    "banana_cake = Cake(\"banana\",8)\n",
    "carrot_cake = Cake(\"carrot\",10)\n",
    "\n",
    "print(\"type of banana cake:\", type(banana_cake) )\n",
    "print(\"banana_flavor:\",banana_cake.flavor)\n",
    "print(\"banana_number_share:\",banana_cake.number_share)\n",
    "\n",
    "# On peut appeler les méthodes, comme on l'a toujours fait\n",
    "banana_cake.be_cut()\n",
    "banana_cake.add_candles(8)"
   ]
  },
  {
   "cell_type": "markdown",
   "metadata": {},
   "source": [
    "**`Exercice 1`**:  \n",
    "Reprennez votre diagramme de class et coder les classes et les objets qui s'y trouvent"
   ]
  },
  {
   "cell_type": "markdown",
   "metadata": {},
   "source": [
    "**`Exercice 2`**:  \n",
    "Faites la série d'exercice [suivante](https://holypython.com/advanced-python-exercises/exercise-4-classes/)"
   ]
  },
  {
   "cell_type": "markdown",
   "metadata": {},
   "source": [
    "## II.2 Les différents types d'attribut"
   ]
  },
  {
   "cell_type": "markdown",
   "metadata": {},
   "source": [
    "En programmation orientée objet, il existe trois types d’attributs :\n",
    "- les attributs d’instance (propres aux instances créées)\n",
    "- les attributs de classe (propres à la classe, et partagés entre les instances): Les attributs de classe sont souvent utilisés pour créer des données ou des actions globales à la classe, qui ne dépendent pas d’une instance. \n",
    "   - Elles peuvent être accédées par la classe, sans passer par l’instanciation. \n",
    "   - Les attributs de classe peuvent se référencer entre eux, mais ne peuvent pas accéder aux attributs d’instance.\n",
    "   - Les instances peuvent accéder à ces attributs.\n",
    "- et les attributs statiques (qui sont presque indépendants de la classe, on ne les verra pas car il n'est pas conseillé de les utiliser, ils ont précédés de @staticmethod).\n",
    "\n",
    "Si chaque type d’attribut possède une utilité propre, essayez autant que possible de privilégier les attributs d’instance, qui permettent d’utiliser la programmation orientée objet à son plein potentiel.\n",
    "\n",
    "good to know:\n",
    "When you try to access an attribute from an instance of a class, it first looks at its instance namespace. If it finds the attribute, it returns the associated value. If not, it then looks in the class namespace and returns the attribute (if it’s present, throwing an error otherwise)"
   ]
  },
  {
   "cell_type": "code",
   "execution_count": 39,
   "metadata": {},
   "outputs": [],
   "source": [
    "class Pie:\n",
    "    \"\"\"Objet Cake qui permettra d'alimenter ma boulangerie\n",
    "    \"\"\"\n",
    "    # on crée les attributs de classe en dehors du constructeur\n",
    "    taste = \"good\"\n",
    "\n",
    "    def __init__(self, flavor,number_share):\n",
    "        \"\"\" Initialise les attributs\n",
    "\n",
    "        Args:\n",
    "            flavor ([type]): [description]\n",
    "            number_share ([type]): [description]\n",
    "        \"\"\"\n",
    "        self.flavor = flavor\n",
    "        self.number_share = number_share\n",
    "\n",
    "    def be_cut(self):\n",
    "        \"\"\" couper le gateau\"\"\"\n",
    "        print(\"the {} cake is now cut in {} share\".format(self.flavor, self.number_share)) \n",
    "\n",
    "    def add_candles(self,candle):\n",
    "        \"\"\" ajoute des bougies au gateau\"\"\"\n",
    "        print(\"{} candles have been added on the {} {} cake\".format(candle, self.__class__.taste,self.flavor))\n",
    "        print(\"each share has\")\n",
    "    \n",
    "    #on les utilise dans des méthodes de classe\n",
    "    @classmethod\n",
    "    def is_it_good(cls):\n",
    "        if cls.taste == \"good\":\n",
    "            return True"
   ]
  },
  {
   "cell_type": "code",
   "execution_count": 40,
   "metadata": {},
   "outputs": [
    {
     "name": "stdout",
     "output_type": "stream",
     "text": [
      "good\n",
      "True\n",
      "good\n",
      "bad\n",
      "good\n",
      "bad\n",
      "just okay\n"
     ]
    }
   ],
   "source": [
    "# On peut accéder aux variables de classe sans instanciation.\n",
    "print(Pie.taste)\n",
    "print(Pie.is_it_good())\n",
    "\n",
    "# Les instances peuvent accéder à ces attributs:\n",
    "apple_pie = Pie(\"apple\",8)\n",
    "raspberry_pie = Pie(\"raspberry\",9)\n",
    "\n",
    "# modifier cette attribut ne fonctionnera que pour l'instance en question\n",
    "print(apple_pie.taste)\n",
    "apple_pie.taste = \"bad\"\n",
    "print(apple_pie.taste)\n",
    "print(raspberry_pie.taste)\n",
    "\n",
    "# On peut changer cette valeur pour toutes les instances\n",
    "Pie.taste = \"just okay\"\n",
    "\n",
    "# Cela ne fonctionne que pour les instanciations futures cependant\n",
    "print(apple_pie.taste)\n",
    "stawberry_pie = Pie(\"stawberry\",8)\n",
    "print(stawberry_pie.taste)"
   ]
  },
  {
   "cell_type": "markdown",
   "metadata": {},
   "source": [
    "Exercice\n",
    "- Créer des classes: trousse à outils, marteau, tournevis, clou, visse \n",
    "- Instanciez une boîte à outils, un tournevis, et un marteau.\n",
    "- Placez le marteau et le tournevis dans la boîte à outils.\n",
    "- Instanciez une vis, et serrez-la avec le tournevis. Affichez la vis avant et après avoir été serrée.\n",
    "- Instanciez un clou, puis enfoncez-le avec le marteau. Affichez le clou avant et après avoir été enfoncé.\n",
    "\n",
    "Pour chaque classe vous devez définir les attributs et les méthodes qui permettront d'éxecuter et de rapporter dans le terminal ces actions et ces états."
   ]
  },
  {
   "cell_type": "markdown",
   "metadata": {},
   "source": [
    "# III L'héritage"
   ]
  },
  {
   "cell_type": "markdown",
   "metadata": {},
   "source": [
    "## III.1 La notion d'héritage"
   ]
  },
  {
   "cell_type": "markdown",
   "metadata": {},
   "source": [
    "Le grand avantage des classes c'est l'héritage.\n",
    "\n",
    "L'héritage consiste à créer une classe enfant à partir d'une classe parent.\n",
    "La classe enfant récupère toutes les instances et méthodes de la classe parent"
   ]
  },
  {
   "cell_type": "markdown",
   "metadata": {},
   "source": [
    "![title](img/Class_heritage.drawio.png)"
   ]
  },
  {
   "cell_type": "markdown",
   "metadata": {},
   "source": [
    "Pourquoi l’héritage ?\n",
    "Nous utilisons l’héritage en programmation orientée objet pour plusieurs raisons différentes, mais liées entre elles :\n",
    "- La réutilisabilité: quand on veut écrire plusieurs classes proches, il faut créer une classe parente et ensuite facilement créer les classes enfants. Pour modifier une méthode existante dans toutes les classes, il ne faudra plus que la changer à un endroit.\n",
    "- L'extensibilité: L’héritage permet également l’extensibilité – c’est-à-dire la possibilité d’étendre la fonctionnalité d’un programme sans avoir à modifier le code existant.\n"
   ]
  },
  {
   "cell_type": "markdown",
   "metadata": {},
   "source": [
    "**'Exercice'** Ecrire le diagramme de classe correspondant au cas suivant:\n",
    "Fort de votre expérience en pâtisserie, vous décidez de créer un forum en ligne pour parler de gâteaux ! Sur ce forum, les utilisateurs fans de pâtisserie pourront :\n",
    "- s’inscrire et se connecter ;\n",
    "- parler de leurs gâteaux préférés, en créant de nouveaux fils de discussion ;\n",
    "- répondre à des messages, dans les fils existants.\n",
    "- Un fil de discussion sur ce forum a un titre, une date de création et une collection de posts lui correspondant.\n",
    "- Chaque post contient du texte, l’utilisateur qui l’a publié et la date de publication.\n",
    "- Les utilisateurs ont la possibilité d’attacher des fichiers à leurs posts :\n",
    "- Partez du principe qu’il peut y avoir de nombreux types de fichiers, mais nous sommes surtout intéressés par les fichiers images (GIF ou JPEP).\n",
    "- Un post peut avoir un fichier attaché, ce qui changera la façon dont le post est affiché. Ce serait donc un nouveau type de post.\n",
    "- Enfin, il y a des utilisateurs spéciaux nommés modérateurs, qui ont la capacité de modifier un post pour qu’il contienne du contenu nouveau, et de supprimer ceux qui ne parlent pas de gâteaux. ;)\n",
    "\n"
   ]
  },
  {
   "cell_type": "markdown",
   "metadata": {},
   "source": [
    "## III.2 Coder ses classes héritées"
   ]
  },
  {
   "cell_type": "code",
   "execution_count": 4,
   "metadata": {},
   "outputs": [],
   "source": [
    "# Exemple\n",
    "\n",
    "class Stylo:\n",
    "    \"\"\" Classe stylo\"\"\"\n",
    "    def __init__(self,couleur):\n",
    "        self.couleur = couleur\n",
    "    \n",
    "    def ecrire(self,content):\n",
    "        print(f'J\\'écris {content} avec mon stylo {self.couleur}')"
   ]
  },
  {
   "cell_type": "code",
   "execution_count": 5,
   "metadata": {},
   "outputs": [
    {
     "name": "stdout",
     "output_type": "stream",
     "text": [
      "J' écris truc avec mon stylo noir\n"
     ]
    }
   ],
   "source": [
    "bic = Stylo(\"noir\")\n",
    "bic.ecrire(\"un truc\")"
   ]
  },
  {
   "cell_type": "code",
   "execution_count": 7,
   "metadata": {},
   "outputs": [],
   "source": [
    "class StyloPlume(Stylo):\n",
    "    \"\"\" Classe stylo\"\"\"\n",
    "    def __init__(self, couleur, type_cartouche):\n",
    "        self.couleur = couleur\n",
    "        self.type_cartouche = type_cartouche\n"
   ]
  },
  {
   "cell_type": "code",
   "execution_count": 8,
   "metadata": {},
   "outputs": [
    {
     "name": "stdout",
     "output_type": "stream",
     "text": [
      "noir\n",
      "parker\n",
      "J' écris autre chose avec mon stylo noir\n"
     ]
    }
   ],
   "source": [
    "ma_plume = StyloPlume(\"bleur\",\"parker\")\n",
    "print(ma_plume.couleur)\n",
    "print(ma_plume.type_cartouche)\n",
    "ma_plume.ecrire(\"autre chose\")"
   ]
  },
  {
   "cell_type": "markdown",
   "metadata": {},
   "source": [
    "**`Exercice`**:\n",
    "\n",
    "Réaliser la série d'exercices [suivante](https://holypython.com/advanced-python-exercises/exercise-5-inheritence/)\n"
   ]
  },
  {
   "cell_type": "markdown",
   "metadata": {},
   "source": [
    "## III.3 Surcharger une méthode"
   ]
  },
  {
   "cell_type": "markdown",
   "metadata": {},
   "source": [
    "Surcharger une méthode consiste à définir à nouveau une méthode existant dans la classe parent dans la classe enfant.\n",
    "\n",
    "C'est la définition dans la classe enfant qui l'emportera"
   ]
  },
  {
   "cell_type": "code",
   "execution_count": 11,
   "metadata": {},
   "outputs": [],
   "source": [
    "class StyloPlume(Stylo):\n",
    "    \"\"\" Classe stylo\"\"\"\n",
    "    def __init__(self, couleur, type_cartouche):\n",
    "        self.couleur = couleur\n",
    "        self.type_cartouche = type_cartouche\n",
    "\n",
    "    def ecrire(self,content):\n",
    "        print(f'J\\'écris {content} avec mon stylo PLUME {self.couleur}')"
   ]
  },
  {
   "cell_type": "code",
   "execution_count": 12,
   "metadata": {},
   "outputs": [
    {
     "name": "stdout",
     "output_type": "stream",
     "text": [
      "J'écris autre chose avec mon stylo PLUME bleu\n"
     ]
    }
   ],
   "source": [
    "StyloPlume(\"bleu\",\"parker\").ecrire(\"autre chose\")"
   ]
  },
  {
   "cell_type": "markdown",
   "metadata": {},
   "source": [
    "**`Exercice`**\n",
    "\n",
    "Coder le diagramme de classe que vous vennez d'écrire "
   ]
  },
  {
   "cell_type": "markdown",
   "metadata": {},
   "source": [
    "## III.4 Usage avancé: les classes abstraites"
   ]
  },
  {
   "cell_type": "markdown",
   "metadata": {},
   "source": [
    "Il peut être utile de créer une classe parente dont on veut faire hériter les méthodes mais qui ne peut pas être instanciée\n",
    "\n",
    "Dans ce cas on utilisera une classe abstaite. C'est une classe qui est définie, dont on peut hériter mais qu'on ne peut pas instancier."
   ]
  },
  {
   "cell_type": "code",
   "execution_count": 18,
   "metadata": {},
   "outputs": [
    {
     "name": "stdout",
     "output_type": "stream",
     "text": [
      "True\n",
      "True\n"
     ]
    }
   ],
   "source": [
    "# On crée ici un classe MaterielScolaire qui ne correspond à rien de précis mais dont on peut hériter:\n",
    "\n",
    "from abc import ABC   # permet de définir des classes de base\n",
    "\n",
    "class MaterielScolaire(ABC):\n",
    "    \n",
    "    def tient_dans_une_trousse(self):\n",
    "        return True\n",
    "\n",
    "\n",
    "class Regle(MaterielScolaire):\n",
    "    def __init__(self, longueur):\n",
    "        self.longueur = longueur\n",
    "\n",
    "class Ciseaux(MaterielScolaire):\n",
    "    pass\n",
    "\n",
    "ma_regle = Regle(20)\n",
    "mes_ciseaux = Ciseaux()\n",
    "print(ma_regle.tient_dans_une_trousse())\n",
    "print(mes_ciseaux.tient_dans_une_trousse())"
   ]
  },
  {
   "cell_type": "code",
   "execution_count": 22,
   "metadata": {},
   "outputs": [
    {
     "data": {
      "text/plain": [
       "__main__.MaterielScolaire"
      ]
     },
     "execution_count": 22,
     "metadata": {},
     "output_type": "execute_result"
    }
   ],
   "source": [
    "# Par contre ça ne marche pas:\n",
    "mon_materiel_scolaire = MaterielScolaire()\n",
    "type(mon_materiel_scolaire)"
   ]
  },
  {
   "cell_type": "code",
   "execution_count": 13,
   "metadata": {},
   "outputs": [],
   "source": [
    "class Drink:\n",
    "    \"\"\"Une boisson.\"\"\"\n",
    "\n",
    "    def __init__(self, price):\n",
    "        \"\"\"Initialise un prix.\"\"\"\n",
    "        self.price = price\n",
    "\n",
    "    def drink(self):\n",
    "        \"\"\"Boire la boisson.\"\"\"\n",
    "        print(\"Je ne sais pas ce que c'est, mais je le bois.\")\n",
    "\n",
    "\n",
    "class Coffee(Drink):\n",
    "    \"\"\"Café.\"\"\"\n",
    "    \n",
    "    prices = {\"simple\": 1, \"serré\": 1, \"allongé\": 1.5}\n",
    "\n",
    "    def __init__(self, type):\n",
    "        \"\"\"Initialise le type du café.\"\"\"\n",
    "        self.type = type\n",
    "        super().__init__(price=self.prices.get(type, 1))\n",
    "\n",
    "\n",
    "    def drink(self):\n",
    "        \"\"\"Boire le café.\"\"\"\n",
    "        print(\"Un bon café pour me réveiller !\")"
   ]
  },
  {
   "cell_type": "code",
   "execution_count": 16,
   "metadata": {},
   "outputs": [
    {
     "data": {
      "text/plain": [
       "1"
      ]
     },
     "execution_count": 16,
     "metadata": {},
     "output_type": "execute_result"
    }
   ],
   "source": [
    "kawa = Coffee(\"serré\")\n",
    "kawa.price"
   ]
  },
  {
   "cell_type": "markdown",
   "metadata": {},
   "source": [
    "# Encapsulation"
   ]
  },
  {
   "cell_type": "markdown",
   "metadata": {},
   "source": [
    "## Les attibuts protégés"
   ]
  },
  {
   "cell_type": "markdown",
   "metadata": {},
   "source": [
    "Les attributs protégés sont des attributs qu'on ne peut pas appeler en dehors de la classe. Ils ne sont accessible qu'au sein de la classe et dans les sous classes.\n",
    "\n",
    "Les attributs protégés existent dans différents langages (jave, C++) mais sont un peu particuliers en python"
   ]
  },
  {
   "cell_type": "code",
   "execution_count": 56,
   "metadata": {},
   "outputs": [],
   "source": [
    "class Profil:\n",
    "    def __init__(self,name):\n",
    "        self.name = name\n",
    "        # les attributs protégés sont caractérisés par un \"_\" avant leurs noms\n",
    "        self._password = \"pass\"\n",
    "\n",
    "    # généralement on y accède au moyen de méthodes spécifique:\n",
    "    def setPassword(self,password):\n",
    "        self._password = password\n",
    "\n",
    "    def getPassword(self):\n",
    "        return self._password"
   ]
  },
  {
   "cell_type": "code",
   "execution_count": 34,
   "metadata": {},
   "outputs": [
    {
     "data": {
      "text/plain": [
       "'1234'"
      ]
     },
     "execution_count": 34,
     "metadata": {},
     "output_type": "execute_result"
    }
   ],
   "source": [
    "my_profil=Profil(\"Charles\")\n",
    "my_profil.setPassword(\"1234\")\n",
    "my_profil.getPassword()\n"
   ]
  },
  {
   "cell_type": "code",
   "execution_count": 35,
   "metadata": {},
   "outputs": [
    {
     "data": {
      "text/plain": [
       "'1234'"
      ]
     },
     "execution_count": 35,
     "metadata": {},
     "output_type": "execute_result"
    }
   ],
   "source": [
    "# Théoriquement, le code suivant ne devrait pas marcher:\n",
    "my_profil._password"
   ]
  },
  {
   "cell_type": "markdown",
   "metadata": {},
   "source": [
    "Cependant cela marche, le \"_\" est juste une convention qui dit qu'on déconseille d'accéder à cet élément en dehors de ma classe mais on peut néanmoins le faire sans obtenir d'erreur.\n",
    "\n",
    "Par contre, comme dit précédement, on peut accéder aux attributs protégé depuis une classe fille."
   ]
  },
  {
   "cell_type": "code",
   "execution_count": 65,
   "metadata": {},
   "outputs": [],
   "source": [
    "class Compte(Profil):\n",
    "    def __init__(self, name):\n",
    "        super().__init__(name)\n",
    "\n",
    "    def getPassword(self):\n",
    "        return self._password"
   ]
  },
  {
   "cell_type": "code",
   "execution_count": 66,
   "metadata": {},
   "outputs": [
    {
     "data": {
      "text/plain": [
       "'pass'"
      ]
     },
     "execution_count": 66,
     "metadata": {},
     "output_type": "execute_result"
    }
   ],
   "source": [
    "mon_compte = Compte(\"C.Ben\")\n",
    "mon_compte.getPassword()"
   ]
  },
  {
   "cell_type": "markdown",
   "metadata": {},
   "source": [
    "## Les attributs privés"
   ]
  },
  {
   "cell_type": "markdown",
   "metadata": {},
   "source": [
    "Les attributs privés ne peuvent être appelés qu'au sein de la classe. Ils sont caractérisés par des doubles underscore (dunders) \"__\""
   ]
  },
  {
   "cell_type": "code",
   "execution_count": 39,
   "metadata": {},
   "outputs": [],
   "source": [
    "class Profil2:\n",
    "    def __init__(self,name):\n",
    "        self.name = name\n",
    "        # les attributs protégés sont caractérisés par un \"_\" avant leurs noms\n",
    "        self.__password = \"pass\"\n",
    "\n",
    "    # généralement on y accède au moyen de méthodes spécifique:\n",
    "    def setPassword(self,password):\n",
    "        self._password = password\n",
    "\n",
    "    def getPassword(self):\n",
    "        return self._password"
   ]
  },
  {
   "cell_type": "code",
   "execution_count": 41,
   "metadata": {},
   "outputs": [
    {
     "data": {
      "text/plain": [
       "'1234'"
      ]
     },
     "execution_count": 41,
     "metadata": {},
     "output_type": "execute_result"
    }
   ],
   "source": [
    "# Pas de soucis, on peut toujorus y accéder au sein de la classe\n",
    "my_profil2=Profil2(\"Charles\")\n",
    "my_profil2.setPassword(\"1234\")\n",
    "my_profil2.getPassword()\n"
   ]
  },
  {
   "cell_type": "code",
   "execution_count": 42,
   "metadata": {},
   "outputs": [
    {
     "ename": "AttributeError",
     "evalue": "'Profil2' object has no attribute '__password'",
     "output_type": "error",
     "traceback": [
      "\u001b[0;31m---------------------------------------------------------------------------\u001b[0m",
      "\u001b[0;31mAttributeError\u001b[0m                            Traceback (most recent call last)",
      "\u001b[0;32m/var/folders/py/4rt338cj1ks4z3332m7l3f880000gp/T/ipykernel_15618/1852783666.py\u001b[0m in \u001b[0;36m<module>\u001b[0;34m\u001b[0m\n\u001b[1;32m      1\u001b[0m \u001b[0;31m# Mais ça ne marche plus\u001b[0m\u001b[0;34m\u001b[0m\u001b[0;34m\u001b[0m\u001b[0;34m\u001b[0m\u001b[0m\n\u001b[0;32m----> 2\u001b[0;31m \u001b[0mmy_profil2\u001b[0m\u001b[0;34m.\u001b[0m\u001b[0m__password\u001b[0m\u001b[0;34m\u001b[0m\u001b[0;34m\u001b[0m\u001b[0m\n\u001b[0m",
      "\u001b[0;31mAttributeError\u001b[0m: 'Profil2' object has no attribute '__password'"
     ]
    }
   ],
   "source": [
    "# Mais ça ne marche plus\n",
    "my_profil2.__password"
   ]
  },
  {
   "cell_type": "code",
   "execution_count": 67,
   "metadata": {},
   "outputs": [],
   "source": [
    "class Compte2(Profil2):\n",
    "    def __init__(self, name):\n",
    "        super().__init__(name)\n",
    "\n",
    "    def getPassword(self):\n",
    "        return self.__password"
   ]
  },
  {
   "cell_type": "code",
   "execution_count": 69,
   "metadata": {},
   "outputs": [
    {
     "ename": "AttributeError",
     "evalue": "'Compte2' object has no attribute '_Compte2__password'",
     "output_type": "error",
     "traceback": [
      "\u001b[0;31m---------------------------------------------------------------------------\u001b[0m",
      "\u001b[0;31mAttributeError\u001b[0m                            Traceback (most recent call last)",
      "\u001b[0;32m/var/folders/py/4rt338cj1ks4z3332m7l3f880000gp/T/ipykernel_15618/2882985086.py\u001b[0m in \u001b[0;36m<module>\u001b[0;34m\u001b[0m\n\u001b[1;32m      1\u001b[0m \u001b[0mmon_compte\u001b[0m \u001b[0;34m=\u001b[0m \u001b[0mCompte2\u001b[0m\u001b[0;34m(\u001b[0m\u001b[0;34m\"C.Ben\"\u001b[0m\u001b[0;34m)\u001b[0m\u001b[0;34m\u001b[0m\u001b[0;34m\u001b[0m\u001b[0m\n\u001b[0;32m----> 2\u001b[0;31m \u001b[0mmon_compte\u001b[0m\u001b[0;34m.\u001b[0m\u001b[0mgetPassword\u001b[0m\u001b[0;34m(\u001b[0m\u001b[0;34m)\u001b[0m\u001b[0;34m\u001b[0m\u001b[0;34m\u001b[0m\u001b[0m\n\u001b[0m",
      "\u001b[0;32m/var/folders/py/4rt338cj1ks4z3332m7l3f880000gp/T/ipykernel_15618/2906456483.py\u001b[0m in \u001b[0;36mgetPassword\u001b[0;34m(self)\u001b[0m\n\u001b[1;32m      4\u001b[0m \u001b[0;34m\u001b[0m\u001b[0m\n\u001b[1;32m      5\u001b[0m     \u001b[0;32mdef\u001b[0m \u001b[0mgetPassword\u001b[0m\u001b[0;34m(\u001b[0m\u001b[0mself\u001b[0m\u001b[0;34m)\u001b[0m\u001b[0;34m:\u001b[0m\u001b[0;34m\u001b[0m\u001b[0;34m\u001b[0m\u001b[0m\n\u001b[0;32m----> 6\u001b[0;31m         \u001b[0;32mreturn\u001b[0m \u001b[0mself\u001b[0m\u001b[0;34m.\u001b[0m\u001b[0m__password\u001b[0m\u001b[0;34m\u001b[0m\u001b[0;34m\u001b[0m\u001b[0m\n\u001b[0m",
      "\u001b[0;31mAttributeError\u001b[0m: 'Compte2' object has no attribute '_Compte2__password'"
     ]
    }
   ],
   "source": [
    "# mais ceci n'est plus possible\n",
    "mon_compte = Compte2(\"C.Ben\")\n",
    "mon_compte.getPassword()"
   ]
  },
  {
   "cell_type": "markdown",
   "metadata": {},
   "source": [
    "# Ressources"
   ]
  },
  {
   "cell_type": "markdown",
   "metadata": {},
   "source": [
    "Le cours s'inspire des cours suivant:\n",
    "- [openclassroom](https://openclassrooms.com/fr/courses/7150616-apprenez-la-programmation-orientee-objet-avec-python/7197146-comprenez-la-programmation-orientee-objet)"
   ]
  }
 ],
 "metadata": {
  "interpreter": {
   "hash": "949777d72b0d2535278d3dc13498b2535136f6dfe0678499012e853ee9abcab1"
  },
  "kernelspec": {
   "display_name": "Python 3.8.6 64-bit",
   "language": "python",
   "name": "python3"
  },
  "language_info": {
   "codemirror_mode": {
    "name": "ipython",
    "version": 3
   },
   "file_extension": ".py",
   "mimetype": "text/x-python",
   "name": "python",
   "nbconvert_exporter": "python",
   "pygments_lexer": "ipython3",
   "version": "3.8.6"
  },
  "orig_nbformat": 4
 },
 "nbformat": 4,
 "nbformat_minor": 2
}
